{
 "cells": [
  {
   "attachments": {},
   "cell_type": "markdown",
   "metadata": {},
   "source": [
    "# Escalas armatore - Texto"
   ]
  },
  {
   "attachments": {},
   "cell_type": "markdown",
   "metadata": {},
   "source": [
    "## Módulos"
   ]
  },
  {
   "cell_type": "code",
   "execution_count": 34,
   "metadata": {},
   "outputs": [],
   "source": [
    "import os\n",
    "import sys\n",
    "import time"
   ]
  },
  {
   "cell_type": "code",
   "execution_count": 2,
   "metadata": {},
   "outputs": [],
   "source": [
    "# from .env\n",
    "sys.path.append('../.env/lib/python3.10/site-packages/')"
   ]
  },
  {
   "cell_type": "code",
   "execution_count": 3,
   "metadata": {},
   "outputs": [],
   "source": [
    "import pandas as pd\n",
    "import numpy as np\n",
    "import seaborn as sns\n",
    "import matplotlib.pyplot as plt"
   ]
  },
  {
   "cell_type": "code",
   "execution_count": 4,
   "metadata": {},
   "outputs": [],
   "source": [
    "import pingouin as pg"
   ]
  },
  {
   "cell_type": "code",
   "execution_count": 5,
   "metadata": {},
   "outputs": [],
   "source": [
    "#import os\n",
    "import openai"
   ]
  },
  {
   "cell_type": "code",
   "execution_count": 16,
   "metadata": {},
   "outputs": [],
   "source": [
    "import conf"
   ]
  },
  {
   "attachments": {},
   "cell_type": "markdown",
   "metadata": {},
   "source": [
    "## Dados"
   ]
  },
  {
   "cell_type": "code",
   "execution_count": 6,
   "metadata": {},
   "outputs": [],
   "source": [
    "dados_ttest = pd.read_pickle('../data/dados_ttest.pkl')"
   ]
  },
  {
   "attachments": {},
   "cell_type": "markdown",
   "metadata": {},
   "source": [
    "## Ajustar dados"
   ]
  },
  {
   "attachments": {},
   "cell_type": "markdown",
   "metadata": {},
   "source": [
    "- Preparar dados"
   ]
  },
  {
   "cell_type": "code",
   "execution_count": 7,
   "metadata": {},
   "outputs": [],
   "source": [
    "p_ = 0.05\n",
    "grupos_sigs = dados_ttest[dados_ttest['p-tukey'] < p_].reset_index(drop=True)"
   ]
  },
  {
   "attachments": {},
   "cell_type": "markdown",
   "metadata": {},
   "source": [
    "## Textos"
   ]
  },
  {
   "cell_type": "code",
   "execution_count": 8,
   "metadata": {},
   "outputs": [
    {
     "name": "stdout",
     "output_type": "stream",
     "text": [
      "O grupo: 'Genero 1' apresentou media maior que o grupo 'Genero 2' em relacao a Livro_score.\n",
      "O grupo: 'Genero 1' apresentou media maior que o grupo 'Genero 3' em relacao a Livro_score.\n",
      "O grupo: 'Genero 1' apresentou media maior que o grupo 'Genero 2' em relacao a IDF_score.\n",
      "O grupo: 'Genero 1' apresentou media maior que o grupo 'Genero 3' em relacao a IDF_score.\n",
      "O grupo: 'Genero 3' apresentou media maior que o grupo 'Genero 2' em relacao a IDF_score.\n",
      "O grupo: 'Genero 1' apresentou media maior que o grupo 'Genero 3' em relacao a TRP_score.\n",
      "O grupo: 'Genero 1' apresentou media maior que o grupo 'Genero 3' em relacao a RCP_score.\n",
      "O grupo: 'Genero 1' apresentou media maior que o grupo 'Genero 3' em relacao a SST_score.\n",
      "O grupo: 'Genero 1' apresentou media maior que o grupo 'Genero 3' em relacao a PER_score.\n",
      "O grupo: 'Genero 1' apresentou media maior que o grupo 'Genero 2' em relacao a AVP_score.\n",
      "O grupo: 'Genero 1' apresentou media maior que o grupo 'Genero 3' em relacao a AVP_score.\n",
      "O grupo: 'Genero 1' apresentou media maior que o grupo 'Genero 3' em relacao a PAO_score.\n",
      "O grupo: 'Genero 1' apresentou media maior que o grupo 'Genero 2' em relacao a FAT_score.\n",
      "O grupo: 'Genero 1' apresentou media maior que o grupo 'Genero 3' em relacao a FAT_score.\n",
      "O grupo: 'Genero 1' apresentou media maior que o grupo 'Genero 2' em relacao a LAT_score.\n",
      "O grupo: 'Genero 1' apresentou media maior que o grupo 'Genero 3' em relacao a LAT_score.\n",
      "O grupo: 'Genero 1' apresentou media maior que o grupo 'Genero 2' em relacao a LEC_score.\n",
      "O grupo: 'Genero 1' apresentou media maior que o grupo 'Genero 3' em relacao a LEC_score.\n",
      "O grupo: 'TV 1' apresentou media maior que o grupo 'TV 2' em relacao a IDF_score.\n",
      "O grupo: 'PPV 1' apresentou media maior que o grupo 'PPV 2' em relacao a Livro_score.\n",
      "O grupo: 'PPV 1' apresentou media maior que o grupo 'PPV 2' em relacao a IDF_score.\n",
      "O grupo: 'PPV 1' apresentou media maior que o grupo 'PPV 2' em relacao a TRP_score.\n",
      "O grupo: 'PPV 1' apresentou media maior que o grupo 'PPV 2' em relacao a RCP_score.\n",
      "O grupo: 'PPV 1' apresentou media maior que o grupo 'PPV 2' em relacao a SST_score.\n",
      "O grupo: 'PPV 1' apresentou media maior que o grupo 'PPV 2' em relacao a PER_score.\n",
      "O grupo: 'PPV 1' apresentou media maior que o grupo 'PPV 2' em relacao a AVP_score.\n",
      "O grupo: 'PPV 1' apresentou media maior que o grupo 'PPV 2' em relacao a SAT_score.\n",
      "O grupo: 'PPV 1' apresentou media maior que o grupo 'PPV 2' em relacao a PAO_score.\n",
      "O grupo: 'PPV 1' apresentou media maior que o grupo 'PPV 2' em relacao a FAT_score.\n",
      "O grupo: 'PPV 1' apresentou media maior que o grupo 'PPV 2' em relacao a LAT_score.\n",
      "O grupo: 'PPV 1' apresentou media maior que o grupo 'PPV 2' em relacao a LEC_score.\n"
     ]
    }
   ],
   "source": [
    "insights = []\n",
    "for index, row in grupos_sigs.iterrows():\n",
    "    # indicadores\n",
    "    grupo = row['group']\n",
    "    score = row['score']\n",
    "    teste = row['diff']\n",
    "    \n",
    "    if teste > 0:\n",
    "        grupo1 = row['A']\n",
    "        grupo2 = row['B']\n",
    "    else:\n",
    "        grupo1 = row['B']\n",
    "        grupo2 = row['A']\n",
    "    \n",
    "    # texto\n",
    "    print(f\"O grupo: '{grupo} {grupo1}' apresentou media maior que o grupo '{grupo} {grupo2}' em relacao a {score}.\")\n",
    "    ins = f\"O grupo: '{grupo} {grupo1}' apresentou media maior que o grupo '{grupo} {grupo2}' em relacao a {score}.\"\n",
    "    insights.append(ins)"
   ]
  },
  {
   "cell_type": "code",
   "execution_count": 9,
   "metadata": {},
   "outputs": [],
   "source": [
    "df_texts = pd.DataFrame(insights, columns = ['text']) \\\n",
    "             .reset_index() \\\n",
    "             .rename(columns = {'index':'id_text'})"
   ]
  },
  {
   "cell_type": "code",
   "execution_count": 10,
   "metadata": {},
   "outputs": [
    {
     "data": {
      "text/html": [
       "<div>\n",
       "<style scoped>\n",
       "    .dataframe tbody tr th:only-of-type {\n",
       "        vertical-align: middle;\n",
       "    }\n",
       "\n",
       "    .dataframe tbody tr th {\n",
       "        vertical-align: top;\n",
       "    }\n",
       "\n",
       "    .dataframe thead th {\n",
       "        text-align: right;\n",
       "    }\n",
       "</style>\n",
       "<table border=\"1\" class=\"dataframe\">\n",
       "  <thead>\n",
       "    <tr style=\"text-align: right;\">\n",
       "      <th></th>\n",
       "      <th>id_text</th>\n",
       "      <th>text</th>\n",
       "    </tr>\n",
       "  </thead>\n",
       "  <tbody>\n",
       "    <tr>\n",
       "      <th>0</th>\n",
       "      <td>0</td>\n",
       "      <td>O grupo: 'Genero 1' apresentou media maior que...</td>\n",
       "    </tr>\n",
       "    <tr>\n",
       "      <th>1</th>\n",
       "      <td>1</td>\n",
       "      <td>O grupo: 'Genero 1' apresentou media maior que...</td>\n",
       "    </tr>\n",
       "    <tr>\n",
       "      <th>2</th>\n",
       "      <td>2</td>\n",
       "      <td>O grupo: 'Genero 1' apresentou media maior que...</td>\n",
       "    </tr>\n",
       "    <tr>\n",
       "      <th>3</th>\n",
       "      <td>3</td>\n",
       "      <td>O grupo: 'Genero 1' apresentou media maior que...</td>\n",
       "    </tr>\n",
       "    <tr>\n",
       "      <th>4</th>\n",
       "      <td>4</td>\n",
       "      <td>O grupo: 'Genero 3' apresentou media maior que...</td>\n",
       "    </tr>\n",
       "    <tr>\n",
       "      <th>5</th>\n",
       "      <td>5</td>\n",
       "      <td>O grupo: 'Genero 1' apresentou media maior que...</td>\n",
       "    </tr>\n",
       "    <tr>\n",
       "      <th>6</th>\n",
       "      <td>6</td>\n",
       "      <td>O grupo: 'Genero 1' apresentou media maior que...</td>\n",
       "    </tr>\n",
       "    <tr>\n",
       "      <th>7</th>\n",
       "      <td>7</td>\n",
       "      <td>O grupo: 'Genero 1' apresentou media maior que...</td>\n",
       "    </tr>\n",
       "    <tr>\n",
       "      <th>8</th>\n",
       "      <td>8</td>\n",
       "      <td>O grupo: 'Genero 1' apresentou media maior que...</td>\n",
       "    </tr>\n",
       "    <tr>\n",
       "      <th>9</th>\n",
       "      <td>9</td>\n",
       "      <td>O grupo: 'Genero 1' apresentou media maior que...</td>\n",
       "    </tr>\n",
       "    <tr>\n",
       "      <th>10</th>\n",
       "      <td>10</td>\n",
       "      <td>O grupo: 'Genero 1' apresentou media maior que...</td>\n",
       "    </tr>\n",
       "    <tr>\n",
       "      <th>11</th>\n",
       "      <td>11</td>\n",
       "      <td>O grupo: 'Genero 1' apresentou media maior que...</td>\n",
       "    </tr>\n",
       "    <tr>\n",
       "      <th>12</th>\n",
       "      <td>12</td>\n",
       "      <td>O grupo: 'Genero 1' apresentou media maior que...</td>\n",
       "    </tr>\n",
       "    <tr>\n",
       "      <th>13</th>\n",
       "      <td>13</td>\n",
       "      <td>O grupo: 'Genero 1' apresentou media maior que...</td>\n",
       "    </tr>\n",
       "    <tr>\n",
       "      <th>14</th>\n",
       "      <td>14</td>\n",
       "      <td>O grupo: 'Genero 1' apresentou media maior que...</td>\n",
       "    </tr>\n",
       "    <tr>\n",
       "      <th>15</th>\n",
       "      <td>15</td>\n",
       "      <td>O grupo: 'Genero 1' apresentou media maior que...</td>\n",
       "    </tr>\n",
       "    <tr>\n",
       "      <th>16</th>\n",
       "      <td>16</td>\n",
       "      <td>O grupo: 'Genero 1' apresentou media maior que...</td>\n",
       "    </tr>\n",
       "    <tr>\n",
       "      <th>17</th>\n",
       "      <td>17</td>\n",
       "      <td>O grupo: 'Genero 1' apresentou media maior que...</td>\n",
       "    </tr>\n",
       "    <tr>\n",
       "      <th>18</th>\n",
       "      <td>18</td>\n",
       "      <td>O grupo: 'TV 1' apresentou media maior que o g...</td>\n",
       "    </tr>\n",
       "    <tr>\n",
       "      <th>19</th>\n",
       "      <td>19</td>\n",
       "      <td>O grupo: 'PPV 1' apresentou media maior que o ...</td>\n",
       "    </tr>\n",
       "    <tr>\n",
       "      <th>20</th>\n",
       "      <td>20</td>\n",
       "      <td>O grupo: 'PPV 1' apresentou media maior que o ...</td>\n",
       "    </tr>\n",
       "    <tr>\n",
       "      <th>21</th>\n",
       "      <td>21</td>\n",
       "      <td>O grupo: 'PPV 1' apresentou media maior que o ...</td>\n",
       "    </tr>\n",
       "    <tr>\n",
       "      <th>22</th>\n",
       "      <td>22</td>\n",
       "      <td>O grupo: 'PPV 1' apresentou media maior que o ...</td>\n",
       "    </tr>\n",
       "    <tr>\n",
       "      <th>23</th>\n",
       "      <td>23</td>\n",
       "      <td>O grupo: 'PPV 1' apresentou media maior que o ...</td>\n",
       "    </tr>\n",
       "    <tr>\n",
       "      <th>24</th>\n",
       "      <td>24</td>\n",
       "      <td>O grupo: 'PPV 1' apresentou media maior que o ...</td>\n",
       "    </tr>\n",
       "    <tr>\n",
       "      <th>25</th>\n",
       "      <td>25</td>\n",
       "      <td>O grupo: 'PPV 1' apresentou media maior que o ...</td>\n",
       "    </tr>\n",
       "    <tr>\n",
       "      <th>26</th>\n",
       "      <td>26</td>\n",
       "      <td>O grupo: 'PPV 1' apresentou media maior que o ...</td>\n",
       "    </tr>\n",
       "    <tr>\n",
       "      <th>27</th>\n",
       "      <td>27</td>\n",
       "      <td>O grupo: 'PPV 1' apresentou media maior que o ...</td>\n",
       "    </tr>\n",
       "    <tr>\n",
       "      <th>28</th>\n",
       "      <td>28</td>\n",
       "      <td>O grupo: 'PPV 1' apresentou media maior que o ...</td>\n",
       "    </tr>\n",
       "    <tr>\n",
       "      <th>29</th>\n",
       "      <td>29</td>\n",
       "      <td>O grupo: 'PPV 1' apresentou media maior que o ...</td>\n",
       "    </tr>\n",
       "    <tr>\n",
       "      <th>30</th>\n",
       "      <td>30</td>\n",
       "      <td>O grupo: 'PPV 1' apresentou media maior que o ...</td>\n",
       "    </tr>\n",
       "  </tbody>\n",
       "</table>\n",
       "</div>"
      ],
      "text/plain": [
       "    id_text                                               text\n",
       "0         0  O grupo: 'Genero 1' apresentou media maior que...\n",
       "1         1  O grupo: 'Genero 1' apresentou media maior que...\n",
       "2         2  O grupo: 'Genero 1' apresentou media maior que...\n",
       "3         3  O grupo: 'Genero 1' apresentou media maior que...\n",
       "4         4  O grupo: 'Genero 3' apresentou media maior que...\n",
       "5         5  O grupo: 'Genero 1' apresentou media maior que...\n",
       "6         6  O grupo: 'Genero 1' apresentou media maior que...\n",
       "7         7  O grupo: 'Genero 1' apresentou media maior que...\n",
       "8         8  O grupo: 'Genero 1' apresentou media maior que...\n",
       "9         9  O grupo: 'Genero 1' apresentou media maior que...\n",
       "10       10  O grupo: 'Genero 1' apresentou media maior que...\n",
       "11       11  O grupo: 'Genero 1' apresentou media maior que...\n",
       "12       12  O grupo: 'Genero 1' apresentou media maior que...\n",
       "13       13  O grupo: 'Genero 1' apresentou media maior que...\n",
       "14       14  O grupo: 'Genero 1' apresentou media maior que...\n",
       "15       15  O grupo: 'Genero 1' apresentou media maior que...\n",
       "16       16  O grupo: 'Genero 1' apresentou media maior que...\n",
       "17       17  O grupo: 'Genero 1' apresentou media maior que...\n",
       "18       18  O grupo: 'TV 1' apresentou media maior que o g...\n",
       "19       19  O grupo: 'PPV 1' apresentou media maior que o ...\n",
       "20       20  O grupo: 'PPV 1' apresentou media maior que o ...\n",
       "21       21  O grupo: 'PPV 1' apresentou media maior que o ...\n",
       "22       22  O grupo: 'PPV 1' apresentou media maior que o ...\n",
       "23       23  O grupo: 'PPV 1' apresentou media maior que o ...\n",
       "24       24  O grupo: 'PPV 1' apresentou media maior que o ...\n",
       "25       25  O grupo: 'PPV 1' apresentou media maior que o ...\n",
       "26       26  O grupo: 'PPV 1' apresentou media maior que o ...\n",
       "27       27  O grupo: 'PPV 1' apresentou media maior que o ...\n",
       "28       28  O grupo: 'PPV 1' apresentou media maior que o ...\n",
       "29       29  O grupo: 'PPV 1' apresentou media maior que o ...\n",
       "30       30  O grupo: 'PPV 1' apresentou media maior que o ..."
      ]
     },
     "execution_count": 10,
     "metadata": {},
     "output_type": "execute_result"
    }
   ],
   "source": [
    "df_texts"
   ]
  },
  {
   "attachments": {},
   "cell_type": "markdown",
   "metadata": {},
   "source": [
    "## ChatGPT teste"
   ]
  },
  {
   "cell_type": "code",
   "execution_count": 18,
   "metadata": {},
   "outputs": [],
   "source": [
    "openai.api_key = conf.CHATGPTKEY"
   ]
  },
  {
   "cell_type": "code",
   "execution_count": 41,
   "metadata": {},
   "outputs": [
    {
     "name": "stdout",
     "output_type": "stream",
     "text": [
      "O grupo: 'Genero 1' apresentou media maior que o grupo 'Genero 2' em relacao a Livro_score.. Criar marketing insight\n",
      "O grupo: 'Genero 1' apresentou media maior que o grupo 'Genero 3' em relacao a Livro_score.. Criar marketing insight\n",
      "O grupo: 'Genero 1' apresentou media maior que o grupo 'Genero 2' em relacao a IDF_score.. Criar marketing insight\n",
      "O grupo: 'Genero 1' apresentou media maior que o grupo 'Genero 3' em relacao a IDF_score.. Criar marketing insight\n",
      "O grupo: 'Genero 3' apresentou media maior que o grupo 'Genero 2' em relacao a IDF_score.. Criar marketing insight\n"
     ]
    }
   ],
   "source": [
    "chatgpt_model = \"gpt-3.5-turbo\"\n",
    "results = []\n",
    "for index, row in df_texts.head().iterrows():\n",
    "\n",
    "    message_ = f\"{row['text']}. criar marketing insight\"\n",
    "\n",
    "    print(message_)\n",
    "    #chatgpt_message = [{\"role\": \"user\", \"content\": message_}]\n",
    "\n",
    "    #call_chatgpt = openai.ChatCompletion.create(model = chatgpt_model,\n",
    "    #                                            messages = chatgpt_message)\n",
    "    \n",
    "    #response = call_chatgpt.choices[0]['message']['content']\n",
    "    #results.append(response)\n",
    "\n",
    "    #time.sleep(30) # atualmente, limite de 3 chamados por minuto"
   ]
  },
  {
   "cell_type": "code",
   "execution_count": 39,
   "metadata": {},
   "outputs": [
    {
     "data": {
      "text/plain": [
       "[\"This statement indicates that Group 'Gender 1' had a higher average book score compared to Group 'Gender 2'.\",\n",
       " \"The group 'Gender 1' showed a higher average score than the group 'Gender 3' regarding Book_score.\",\n",
       " 'This statement indicates that \"Genero 1\" group had a higher average IDF_score compared to the \"Genero 2\" group.',\n",
       " 'Como modelo de linguagem AI, não posso confirmar a afirmação sem dados específicos ou contexto adicional. Peço que forneca informações mais detalhadas.',\n",
       " 'Como um modelo de linguagem AI, não tenho acesso a dados específicos sobre grupos ou IDF_score, portanto, não posso confirmar ou negar essa afirmação. No entanto, assumindo que a afirmação é verdadeira, isso pode indicar uma diferença significativa na relevância e importância das palavras usadas pelos dois grupos. É possível que o Grupo 3 tenha usado palavras mais precisas e relevantes, resultando em um IDF_score mais alto, enquanto o Grupo 2 pode ter usado palavras mais comuns e genéricas.']"
      ]
     },
     "execution_count": 39,
     "metadata": {},
     "output_type": "execute_result"
    }
   ],
   "source": [
    "results"
   ]
  },
  {
   "cell_type": "code",
   "execution_count": null,
   "metadata": {},
   "outputs": [],
   "source": []
  },
  {
   "cell_type": "code",
   "execution_count": 25,
   "metadata": {},
   "outputs": [],
   "source": [
    "#openai.Model.list()"
   ]
  },
  {
   "cell_type": "code",
   "execution_count": 26,
   "metadata": {},
   "outputs": [],
   "source": [
    "#chatgpt_model = \"gpt-3.5-turbo\""
   ]
  },
  {
   "cell_type": "code",
   "execution_count": 27,
   "metadata": {},
   "outputs": [],
   "source": [
    "#message_ = 'O Genero homem apresentou media maior que o Genero mulher em relacao a Livro_score. criar marketing insight'"
   ]
  },
  {
   "cell_type": "code",
   "execution_count": 28,
   "metadata": {},
   "outputs": [],
   "source": [
    "#chatgpt_message = [{\"role\": \"user\", \"content\": message_}]"
   ]
  },
  {
   "cell_type": "code",
   "execution_count": 23,
   "metadata": {},
   "outputs": [],
   "source": [
    "#call_chatgpt = openai.ChatCompletion.create(model = chatgpt_model,\n",
    "#                                            messages = chatgpt_message)"
   ]
  },
  {
   "cell_type": "code",
   "execution_count": 29,
   "metadata": {},
   "outputs": [],
   "source": [
    "#call_chatgpt.choices[0]['message']['content']"
   ]
  },
  {
   "cell_type": "code",
   "execution_count": null,
   "metadata": {},
   "outputs": [],
   "source": [
    "# completion = openai.ChatCompletion.create(\n",
    "#   model=\"gpt-3.5-turbo\",\n",
    "#   messages=[\n",
    "#     {\"role\": \"user\", \"content\": \"Tell the world about the ChatGPT API in the style of a pirate.\"}\n",
    "#   ]\n",
    "# )\n",
    "\n",
    "# print(completion.choices[0].message.content)"
   ]
  },
  {
   "cell_type": "code",
   "execution_count": null,
   "metadata": {},
   "outputs": [],
   "source": []
  },
  {
   "cell_type": "code",
   "execution_count": null,
   "metadata": {},
   "outputs": [],
   "source": []
  },
  {
   "cell_type": "code",
   "execution_count": null,
   "metadata": {},
   "outputs": [],
   "source": []
  }
 ],
 "metadata": {
  "kernelspec": {
   "display_name": "Python 3",
   "language": "python",
   "name": "python3"
  },
  "language_info": {
   "codemirror_mode": {
    "name": "ipython",
    "version": 3
   },
   "file_extension": ".py",
   "mimetype": "text/x-python",
   "name": "python",
   "nbconvert_exporter": "python",
   "pygments_lexer": "ipython3",
   "version": "3.10.6"
  }
 },
 "nbformat": 4,
 "nbformat_minor": 2
}
